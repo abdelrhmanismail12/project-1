{
 "cells": [
  {
   "cell_type": "markdown",
   "id": "50763816-c133-4c5a-a6a3-a691c620963c",
   "metadata": {},
   "source": [
    "### Description \n",
    "> #### In this game, the user gets the first chance to pick the option among Rock, paper and scissors. After that computer select from the remaining two choices(randomly), the winner is decided as per the rules.\n",
    "- Rock vs paper-> paper wins\n",
    "- Rock vs scissor-> Rock wins\n",
    "- paper vs scissor-> scissor wins."
   ]
  },
  {
   "cell_type": "code",
   "execution_count": null,
   "id": "83d8ef34-1511-4db4-815c-fcfc6bbb5d48",
   "metadata": {},
   "outputs": [],
   "source": []
  },
  {
   "cell_type": "code",
   "execution_count": 1,
   "id": "3358684f-66d2-42fa-947b-f5f0fb821a11",
   "metadata": {},
   "outputs": [
    {
     "name": "stdin",
     "output_type": "stream",
     "text": [
      "enter your name abdelrhman\n",
      "enter your age 21\n",
      "enter your gender male\n"
     ]
    },
    {
     "name": "stdout",
     "output_type": "stream",
     "text": [
      "hello mr Abdelrhman your age is 21 your gender Male\n"
     ]
    }
   ],
   "source": [
    "name=input(\"enter your name\").strip().capitalize()\n",
    "age=input(\"enter your age\").strip().capitalize()\n",
    "gender=input(\"enter your gender\").strip().capitalize()\n",
    "if gender==\"male\".strip().capitalize():\n",
    "    print(f\"hello mr {name} your age is {age} your gender {gender}\")\n",
    "elif gender == 'famale'.strip().capitalize():\n",
    "    print(f\"hello mrs {name} your age is {age} your gender {gender}\")\n",
    "else:\n",
    "    print(\"Okay, we will laugh Haha\")"
   ]
  },
  {
   "cell_type": "code",
   "execution_count": 2,
   "id": "5a168c8f-3188-4fc8-a290-c15c30386b34",
   "metadata": {},
   "outputs": [
    {
     "name": "stdin",
     "output_type": "stream",
     "text": [
      "enter your choice yes\n"
     ]
    }
   ],
   "source": [
    "you_want_to_play=input(\"enter your choice\").strip().capitalize()"
   ]
  },
  {
   "cell_type": "code",
   "execution_count": 23,
   "id": "e52de52d-c803-4463-b0d4-44f593965cd4",
   "metadata": {},
   "outputs": [],
   "source": [
    "import random\n",
    "from random import choice"
   ]
  },
  {
   "cell_type": "code",
   "execution_count": 13,
   "id": "f964552b-504e-4df0-b693-66f1fc23b131",
   "metadata": {},
   "outputs": [],
   "source": [
    "a=[\"rock\",\"paper\",\"scissor\"]"
   ]
  },
  {
   "cell_type": "code",
   "execution_count": 3,
   "id": "72199a0d-03cc-493b-a908-ef9c7d08f064",
   "metadata": {},
   "outputs": [
    {
     "name": "stdin",
     "output_type": "stream",
     "text": [
      "enter your choice 2\n"
     ]
    }
   ],
   "source": [
    "guess = input(\"enter your choice\")"
   ]
  },
  {
   "cell_type": "code",
   "execution_count": 47,
   "id": "461d3998-ef93-44d4-b7f9-8a0751eddc47",
   "metadata": {},
   "outputs": [
    {
     "name": "stdin",
     "output_type": "stream",
     "text": [
      "enter your choice 5\n"
     ]
    }
   ],
   "source": [
    "a=[\"rock\",\"paper\",\"scissor\"]\n",
    "c = random.choice(a)\n",
    "g = input(\"enter your choice\")\n"
   ]
  },
  {
   "cell_type": "code",
   "execution_count": 4,
   "id": "aab6ba48-4184-4584-a3cd-d457298f89bb",
   "metadata": {},
   "outputs": [],
   "source": [
    "g=guess"
   ]
  },
  {
   "cell_type": "code",
   "execution_count": 26,
   "id": "19a6c8c9-74a0-4235-80a8-2fc83a86dae6",
   "metadata": {},
   "outputs": [],
   "source": [
    "if g == \"rock\" and c == \"scissor\":\n",
    "    print(\"good job you are a winner\")\n",
    "elif g == \"rock\" and c == \"peper\":\n",
    "    print(\"good luck next time\")\n",
    "elif g == \"rock\" and c == \"rock\":\n",
    "    print(\"i thank you are so smart to choose my choice\")\n",
    "elif g == \"scissor\" and c == \"rock\":\n",
    "    print(\"good luck next time\")\n",
    "elif g == \"scissor\" and c == \"peper\":\n",
    "    print(\"good job you are a winner\")\n",
    "elif g == \"scissor\" and c == \"scissor\":\n",
    "    print(\"i thank you are so smart to choose my choice\")\n",
    "elif g == \"peper\" and c == \"rock\":\n",
    "    print(\"good job you are a winner\")\n",
    "elif g == \"peper\" and c == \"peper\":\n",
    "    print(\"i thank you are so smart to choose my choice\")\n",
    "elif g == \"peper\" and c == \"scissor\":\n",
    "    print(\"good luck next time\")"
   ]
  },
  {
   "cell_type": "code",
   "execution_count": 29,
   "id": "381720f0-7f61-4280-8592-5abae45baef0",
   "metadata": {},
   "outputs": [
    {
     "name": "stdout",
     "output_type": "stream",
     "text": [
      "let's start the game dude\n"
     ]
    }
   ],
   "source": [
    "while True:\n",
    "    if you_want_to_play == \"yes\".strip().capitalize():\n",
    "        print(\"let's start the game dude\")\n",
    "        break\n",
    "    elif you_want_to_play == \"no\".strip().capitalize():\n",
    "        print(\"good i think you're very weak\")\n",
    "        break\n",
    "    else:\n",
    "        print(\"you're not funny\")\n",
    "        break"
   ]
  },
  {
   "cell_type": "code",
   "execution_count": 9,
   "id": "2ead7c0c-3f9a-4295-8736-bec498d2e0b9",
   "metadata": {},
   "outputs": [
    {
     "name": "stdin",
     "output_type": "stream",
     "text": [
      "enter your name bode\n",
      "enter your age 21\n",
      "enter your gender male\n"
     ]
    },
    {
     "name": "stdout",
     "output_type": "stream",
     "text": [
      "hello mr Bode your age is 21 your gender Male\n"
     ]
    },
    {
     "name": "stdin",
     "output_type": "stream",
     "text": [
      "you want to play enter your choice yes\n"
     ]
    },
    {
     "name": "stdout",
     "output_type": "stream",
     "text": [
      "let's start the game dude\n"
     ]
    },
    {
     "name": "stdin",
     "output_type": "stream",
     "text": [
      "enter your choice rock\n"
     ]
    },
    {
     "name": "stdout",
     "output_type": "stream",
     "text": [
      "rock vs scissor\n",
      "good job you are a winner\n"
     ]
    }
   ],
   "source": [
    "import random\n",
    "from random import choice\n",
    "name=input(\"enter your name\").strip().capitalize()\n",
    "age=input(\"enter your age\").strip().capitalize()\n",
    "gender=input(\"enter your gender\").strip().capitalize()\n",
    "if gender==\"male\".strip().capitalize():\n",
    "    print(f\"hello mr {name} your age is {age} your gender {gender}\")\n",
    "elif gender == 'famale'.strip().capitalize():\n",
    "    print(f\"hello mrs {name} your age is {age} your gender {gender}\")\n",
    "else:\n",
    "    print(\"Okay, we will laugh Haha\")\n",
    "\n",
    "while True:\n",
    "    you_want_to_play=input(\"you want to play enter your choice\").strip().capitalize()\n",
    "    if you_want_to_play == \"yes\".strip().capitalize():\n",
    "        print(\"let's start the game dude\")\n",
    "        a = [\"rock\", \"paper\", \"scissor\"]\n",
    "        g = input(\"enter your choice\")\n",
    "        c = random.choice(a)\n",
    "        if g == \"rock\" and c == \"scissor\":\n",
    "            print(f\"{'rock'} vs {c}\")\n",
    "            print(\"good job you are a winner\")\n",
    "            break\n",
    "        elif g == \"rock\" and c == \"peper\":\n",
    "            print(f\"{'rock'} vs {c}\")\n",
    "            print(\"good luck next time\")\n",
    "            break\n",
    "        elif g == \"rock\" and c == \"rock\":\n",
    "            print(f\"{'rock'} vs {c}\")\n",
    "            print(\"i thank you are so smart to choose my choice\")\n",
    "            break\n",
    "        elif g == \"scissor\" and c == \"rock\":\n",
    "            print(f\"{'scissor'} vs {c}\")\n",
    "            print(\"good luck next time\")\n",
    "            break\n",
    "        elif g == \"scissor\" and c == \"peper\":\n",
    "            print(f\"{'scissor'} vs {c}\")\n",
    "            print(\"good job you are a winner\")\n",
    "            break\n",
    "        elif g == \"scissor\" and c == \"scissor\":\n",
    "            print(f\"{'scissor'} vs {c}\")\n",
    "            print(\"i thank you are so smart to choose my choice\")\n",
    "            break\n",
    "        elif g == \"peper\" and c == \"rock\":\n",
    "            print(f\"{'peper'} vs {c}\")\n",
    "            print(\"good job you are a winner\")\n",
    "            break\n",
    "        elif g == \"peper\" and c == \"peper\":\n",
    "            print(f\"{'peper'} vs {c}\")\n",
    "            print(\"i thank you are so smart to choose my choice\")\n",
    "            break\n",
    "        elif g == \"peper\" and c == \"scissor\":\n",
    "            print(f\"{'peper'} vs {c}\")\n",
    "            print(\"good luck next time\")\n",
    "            break\n",
    "\n",
    "    elif you_want_to_play == \"no\".strip().capitalize():\n",
    "        print(\"good i think you're very weak\")\n",
    "        break\n",
    "    else:\n",
    "        print(\"you're not funny\")\n",
    "        break"
   ]
  },
  {
   "cell_type": "code",
   "execution_count": null,
   "id": "97525aec-0794-44bd-982d-deda53873263",
   "metadata": {},
   "outputs": [],
   "source": []
  }
 ],
 "metadata": {
  "kernelspec": {
   "display_name": "Python 3 (ipykernel)",
   "language": "python",
   "name": "python3"
  },
  "language_info": {
   "codemirror_mode": {
    "name": "ipython",
    "version": 3
   },
   "file_extension": ".py",
   "mimetype": "text/x-python",
   "name": "python",
   "nbconvert_exporter": "python",
   "pygments_lexer": "ipython3",
   "version": "3.12.7"
  }
 },
 "nbformat": 4,
 "nbformat_minor": 5
}
